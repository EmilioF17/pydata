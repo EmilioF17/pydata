{
 "metadata": {
  "name": ""
 },
 "nbformat": 3,
 "nbformat_minor": 0,
 "worksheets": [
  {
   "cells": [
    {
     "cell_type": "code",
     "collapsed": false,
     "input": [
      "path = 'ch02/usagov_bitly_data2012-03-16-1331923249.txt'"
     ],
     "language": "python",
     "metadata": {},
     "outputs": [],
     "prompt_number": 9
    },
    {
     "cell_type": "code",
     "collapsed": false,
     "input": [
      "open(path).readline()"
     ],
     "language": "python",
     "metadata": {},
     "outputs": [
      {
       "metadata": {},
       "output_type": "pyout",
       "prompt_number": 10,
       "text": [
        "'{ \"a\": \"Mozilla\\\\/5.0 (Windows NT 6.1; WOW64) AppleWebKit\\\\/535.11 (KHTML, like Gecko) Chrome\\\\/17.0.963.78 Safari\\\\/535.11\", \"c\": \"US\", \"nk\": 1, \"tz\": \"America\\\\/New_York\", \"gr\": \"MA\", \"g\": \"A6qOVH\", \"h\": \"wfLQtf\", \"l\": \"orofrog\", \"al\": \"en-US,en;q=0.8\", \"hh\": \"1.usa.gov\", \"r\": \"http:\\\\/\\\\/www.facebook.com\\\\/l\\\\/7AQEFzjSi\\\\/1.usa.gov\\\\/wfLQtf\", \"u\": \"http:\\\\/\\\\/www.ncbi.nlm.nih.gov\\\\/pubmed\\\\/22415991\", \"t\": 1331923247, \"hc\": 1331822918, \"cy\": \"Danvers\", \"ll\": [ 42.576698, -70.954903 ] }\\n'"
       ]
      }
     ],
     "prompt_number": 10
    },
    {
     "cell_type": "code",
     "collapsed": false,
     "input": [
      "import json\n",
      "records = [json.loads(line) for line in open(path)]"
     ],
     "language": "python",
     "metadata": {},
     "outputs": [],
     "prompt_number": 11
    },
    {
     "cell_type": "code",
     "collapsed": false,
     "input": [
      "records[0]"
     ],
     "language": "python",
     "metadata": {},
     "outputs": [
      {
       "metadata": {},
       "output_type": "pyout",
       "prompt_number": 12,
       "text": [
        "{u'a': u'Mozilla/5.0 (Windows NT 6.1; WOW64) AppleWebKit/535.11 (KHTML, like Gecko) Chrome/17.0.963.78 Safari/535.11',\n",
        " u'al': u'en-US,en;q=0.8',\n",
        " u'c': u'US',\n",
        " u'cy': u'Danvers',\n",
        " u'g': u'A6qOVH',\n",
        " u'gr': u'MA',\n",
        " u'h': u'wfLQtf',\n",
        " u'hc': 1331822918,\n",
        " u'hh': u'1.usa.gov',\n",
        " u'l': u'orofrog',\n",
        " u'll': [42.576698, -70.954903],\n",
        " u'nk': 1,\n",
        " u'r': u'http://www.facebook.com/l/7AQEFzjSi/1.usa.gov/wfLQtf',\n",
        " u't': 1331923247,\n",
        " u'tz': u'America/New_York',\n",
        " u'u': u'http://www.ncbi.nlm.nih.gov/pubmed/22415991'}"
       ]
      }
     ],
     "prompt_number": 12
    },
    {
     "cell_type": "code",
     "collapsed": false,
     "input": [
      "records[0]['tz']"
     ],
     "language": "python",
     "metadata": {},
     "outputs": [
      {
       "metadata": {},
       "output_type": "pyout",
       "prompt_number": 13,
       "text": [
        "u'America/New_York'"
       ]
      }
     ],
     "prompt_number": 13
    },
    {
     "cell_type": "code",
     "collapsed": false,
     "input": [
      "print records[0]['tz']"
     ],
     "language": "python",
     "metadata": {},
     "outputs": [
      {
       "output_type": "stream",
       "stream": "stdout",
       "text": [
        "America/New_York\n"
       ]
      }
     ],
     "prompt_number": 14
    },
    {
     "cell_type": "markdown",
     "metadata": {},
     "source": [
      "Counting Time Zones in Pure Python\n",
      "=================================="
     ]
    },
    {
     "cell_type": "code",
     "collapsed": false,
     "input": [
      "time_zones = [rec['tz'] for rec in records]"
     ],
     "language": "python",
     "metadata": {},
     "outputs": [
      {
       "ename": "KeyError",
       "evalue": "'tz'",
       "output_type": "pyerr",
       "traceback": [
        "\u001b[1;31m---------------------------------------------------------------------------\u001b[0m\n\u001b[1;31mKeyError\u001b[0m                                  Traceback (most recent call last)",
        "\u001b[1;32m<ipython-input-15-db4fbd348da9>\u001b[0m in \u001b[0;36m<module>\u001b[1;34m()\u001b[0m\n\u001b[1;32m----> 1\u001b[1;33m \u001b[0mtime_zones\u001b[0m \u001b[1;33m=\u001b[0m \u001b[1;33m[\u001b[0m\u001b[0mrec\u001b[0m\u001b[1;33m[\u001b[0m\u001b[1;34m'tz'\u001b[0m\u001b[1;33m]\u001b[0m \u001b[1;32mfor\u001b[0m \u001b[0mrec\u001b[0m \u001b[1;32min\u001b[0m \u001b[0mrecords\u001b[0m\u001b[1;33m]\u001b[0m\u001b[1;33m\u001b[0m\u001b[0m\n\u001b[0m",
        "\u001b[1;31mKeyError\u001b[0m: 'tz'"
       ]
      }
     ],
     "prompt_number": 15
    },
    {
     "cell_type": "code",
     "collapsed": false,
     "input": [
      "time_zones = [rec['tz'] for rec in records if 'tz' in rec]"
     ],
     "language": "python",
     "metadata": {},
     "outputs": [],
     "prompt_number": 16
    },
    {
     "cell_type": "code",
     "collapsed": false,
     "input": [
      "time_zones[:10]"
     ],
     "language": "python",
     "metadata": {},
     "outputs": [
      {
       "metadata": {},
       "output_type": "pyout",
       "prompt_number": 17,
       "text": [
        "[u'America/New_York',\n",
        " u'America/Denver',\n",
        " u'America/New_York',\n",
        " u'America/Sao_Paulo',\n",
        " u'America/New_York',\n",
        " u'America/New_York',\n",
        " u'Europe/Warsaw',\n",
        " u'',\n",
        " u'',\n",
        " u'']"
       ]
      }
     ],
     "prompt_number": 17
    },
    {
     "cell_type": "code",
     "collapsed": false,
     "input": [
      "def get_counts(sequence):\n",
      "    counts = {}\n",
      "    for x in sequence:\n",
      "        if x in counts:\n",
      "            counts[x] += 1\n",
      "        else:\n",
      "            counts[x] = 1\n",
      "    return counts\n",
      "\n",
      "from collections import defaultdict\n",
      "\n",
      "def get_counts2(sequence):\n",
      "    counts = defaultdict(int) # values initialize to 0\n",
      "    for x in sequence:\n",
      "        counts[x] += 1\n",
      "    return counts"
     ],
     "language": "python",
     "metadata": {},
     "outputs": [],
     "prompt_number": 18
    },
    {
     "cell_type": "code",
     "collapsed": false,
     "input": [
      "counts = get_counts(time_zones)"
     ],
     "language": "python",
     "metadata": {},
     "outputs": [],
     "prompt_number": 19
    },
    {
     "cell_type": "code",
     "collapsed": false,
     "input": [
      "counts['America/New_York']"
     ],
     "language": "python",
     "metadata": {},
     "outputs": [
      {
       "metadata": {},
       "output_type": "pyout",
       "prompt_number": 20,
       "text": [
        "1251"
       ]
      }
     ],
     "prompt_number": 20
    },
    {
     "cell_type": "code",
     "collapsed": false,
     "input": [
      "len(time_zones)"
     ],
     "language": "python",
     "metadata": {},
     "outputs": [
      {
       "metadata": {},
       "output_type": "pyout",
       "prompt_number": 21,
       "text": [
        "3440"
       ]
      }
     ],
     "prompt_number": 21
    },
    {
     "cell_type": "code",
     "collapsed": false,
     "input": [
      "def top_counts(count_dict, n=10):\n",
      "    value_key_pairs = [(count, tz) for tz, count in count_dict.items()]\n",
      "    value_key_pairs.sort()\n",
      "    return value_key_pairs[-n:]"
     ],
     "language": "python",
     "metadata": {},
     "outputs": [],
     "prompt_number": 22
    },
    {
     "cell_type": "code",
     "collapsed": false,
     "input": [
      "top_counts(counts)"
     ],
     "language": "python",
     "metadata": {},
     "outputs": [
      {
       "metadata": {},
       "output_type": "pyout",
       "prompt_number": 23,
       "text": [
        "[(33, u'America/Sao_Paulo'),\n",
        " (35, u'Europe/Madrid'),\n",
        " (36, u'Pacific/Honolulu'),\n",
        " (37, u'Asia/Tokyo'),\n",
        " (74, u'Europe/London'),\n",
        " (191, u'America/Denver'),\n",
        " (382, u'America/Los_Angeles'),\n",
        " (400, u'America/Chicago'),\n",
        " (521, u''),\n",
        " (1251, u'America/New_York')]"
       ]
      }
     ],
     "prompt_number": 23
    },
    {
     "cell_type": "code",
     "collapsed": false,
     "input": [
      "from collections import Counter\n",
      "counts = Counter(time_zones)\n",
      "counts.most_common(10)"
     ],
     "language": "python",
     "metadata": {},
     "outputs": [
      {
       "metadata": {},
       "output_type": "pyout",
       "prompt_number": 24,
       "text": [
        "[(u'America/New_York', 1251),\n",
        " (u'', 521),\n",
        " (u'America/Chicago', 400),\n",
        " (u'America/Los_Angeles', 382),\n",
        " (u'America/Denver', 191),\n",
        " (u'Europe/London', 74),\n",
        " (u'Asia/Tokyo', 37),\n",
        " (u'Pacific/Honolulu', 36),\n",
        " (u'Europe/Madrid', 35),\n",
        " (u'America/Sao_Paulo', 33)]"
       ]
      }
     ],
     "prompt_number": 24
    },
    {
     "cell_type": "markdown",
     "metadata": {},
     "source": [
      "Counting Time Zones with pandas\n",
      "==================================="
     ]
    },
    {
     "cell_type": "code",
     "collapsed": false,
     "input": [
      "import pandas as pd\n",
      "frame = pd.DataFrame(records)"
     ],
     "language": "python",
     "metadata": {},
     "outputs": [],
     "prompt_number": 25
    },
    {
     "cell_type": "code",
     "collapsed": false,
     "input": [
      "frame"
     ],
     "language": "python",
     "metadata": {},
     "outputs": [
      {
       "html": [
        "<pre>\n",
        "&lt;class 'pandas.core.frame.DataFrame'&gt;\n",
        "Int64Index: 3560 entries, 0 to 3559\n",
        "Data columns (total 18 columns):\n",
        "_heartbeat_    120  non-null values\n",
        "a              3440  non-null values\n",
        "al             3094  non-null values\n",
        "c              2919  non-null values\n",
        "cy             2919  non-null values\n",
        "g              3440  non-null values\n",
        "gr             2919  non-null values\n",
        "h              3440  non-null values\n",
        "hc             3440  non-null values\n",
        "hh             3440  non-null values\n",
        "kw             93  non-null values\n",
        "l              3440  non-null values\n",
        "ll             2919  non-null values\n",
        "nk             3440  non-null values\n",
        "r              3440  non-null values\n",
        "t              3440  non-null values\n",
        "tz             3440  non-null values\n",
        "u              3440  non-null values\n",
        "dtypes: float64(4), object(14)\n",
        "</pre>"
       ],
       "metadata": {},
       "output_type": "pyout",
       "prompt_number": 26,
       "text": [
        "<class 'pandas.core.frame.DataFrame'>\n",
        "Int64Index: 3560 entries, 0 to 3559\n",
        "Data columns (total 18 columns):\n",
        "_heartbeat_    120  non-null values\n",
        "a              3440  non-null values\n",
        "al             3094  non-null values\n",
        "c              2919  non-null values\n",
        "cy             2919  non-null values\n",
        "g              3440  non-null values\n",
        "gr             2919  non-null values\n",
        "h              3440  non-null values\n",
        "hc             3440  non-null values\n",
        "hh             3440  non-null values\n",
        "kw             93  non-null values\n",
        "l              3440  non-null values\n",
        "ll             2919  non-null values\n",
        "nk             3440  non-null values\n",
        "r              3440  non-null values\n",
        "t              3440  non-null values\n",
        "tz             3440  non-null values\n",
        "u              3440  non-null values\n",
        "dtypes: float64(4), object(14)"
       ]
      }
     ],
     "prompt_number": 26
    },
    {
     "cell_type": "code",
     "collapsed": false,
     "input": [
      "frame['tz'][:10]"
     ],
     "language": "python",
     "metadata": {},
     "outputs": [
      {
       "metadata": {},
       "output_type": "pyout",
       "prompt_number": 27,
       "text": [
        "0     America/New_York\n",
        "1       America/Denver\n",
        "2     America/New_York\n",
        "3    America/Sao_Paulo\n",
        "4     America/New_York\n",
        "5     America/New_York\n",
        "6        Europe/Warsaw\n",
        "7                     \n",
        "8                     \n",
        "9                     \n",
        "Name: tz, dtype: object"
       ]
      }
     ],
     "prompt_number": 27
    },
    {
     "cell_type": "code",
     "collapsed": false,
     "input": [
      "tz_counts = frame['tz'].value_counts()"
     ],
     "language": "python",
     "metadata": {},
     "outputs": [],
     "prompt_number": 28
    },
    {
     "cell_type": "code",
     "collapsed": false,
     "input": [
      "tz_counts[:10]"
     ],
     "language": "python",
     "metadata": {},
     "outputs": [
      {
       "metadata": {},
       "output_type": "pyout",
       "prompt_number": 29,
       "text": [
        "America/New_York       1251\n",
        "                        521\n",
        "America/Chicago         400\n",
        "America/Los_Angeles     382\n",
        "America/Denver          191\n",
        "Europe/London            74\n",
        "Asia/Tokyo               37\n",
        "Pacific/Honolulu         36\n",
        "Europe/Madrid            35\n",
        "America/Sao_Paulo        33\n",
        "dtype: int64"
       ]
      }
     ],
     "prompt_number": 29
    },
    {
     "cell_type": "code",
     "collapsed": false,
     "input": [
      "tz_counts.head(10)"
     ],
     "language": "python",
     "metadata": {},
     "outputs": [
      {
       "metadata": {},
       "output_type": "pyout",
       "prompt_number": 30,
       "text": [
        "America/New_York       1251\n",
        "                        521\n",
        "America/Chicago         400\n",
        "America/Los_Angeles     382\n",
        "America/Denver          191\n",
        "Europe/London            74\n",
        "Asia/Tokyo               37\n",
        "Pacific/Honolulu         36\n",
        "Europe/Madrid            35\n",
        "America/Sao_Paulo        33\n",
        "dtype: int64"
       ]
      }
     ],
     "prompt_number": 30
    },
    {
     "cell_type": "code",
     "collapsed": false,
     "input": [
      "clean_tz = frame['tz'].fillna('Missing')"
     ],
     "language": "python",
     "metadata": {},
     "outputs": [],
     "prompt_number": 31
    },
    {
     "cell_type": "code",
     "collapsed": false,
     "input": [
      "clean_tz[clean_tz == ''] = 'Unknown'"
     ],
     "language": "python",
     "metadata": {},
     "outputs": [],
     "prompt_number": 32
    },
    {
     "cell_type": "code",
     "collapsed": false,
     "input": [
      "tz_counts = clean_tz.value_counts()"
     ],
     "language": "python",
     "metadata": {},
     "outputs": [],
     "prompt_number": 33
    },
    {
     "cell_type": "code",
     "collapsed": false,
     "input": [
      "tz_counts[:10]"
     ],
     "language": "python",
     "metadata": {},
     "outputs": [
      {
       "metadata": {},
       "output_type": "pyout",
       "prompt_number": 34,
       "text": [
        "America/New_York       1251\n",
        "Unknown                 521\n",
        "America/Chicago         400\n",
        "America/Los_Angeles     382\n",
        "America/Denver          191\n",
        "Missing                 120\n",
        "Europe/London            74\n",
        "Asia/Tokyo               37\n",
        "Pacific/Honolulu         36\n",
        "Europe/Madrid            35\n",
        "dtype: int64"
       ]
      }
     ],
     "prompt_number": 34
    },
    {
     "cell_type": "code",
     "collapsed": false,
     "input": [
      "tz_counts[:10].plot(kind='barh', rot=0)"
     ],
     "language": "python",
     "metadata": {},
     "outputs": [
      {
       "metadata": {},
       "output_type": "pyout",
       "prompt_number": 35,
       "text": [
        "<matplotlib.axes.AxesSubplot at 0x3eabc50>"
       ]
      },
      {
       "metadata": {},
       "output_type": "display_data",
       "png": "[encoded data removed]",
       "text": [
        "<matplotlib.figure.Figure at 0x3eab610>"
       ]
      }
     ],
     "prompt_number": 35
    },
    {
     "cell_type": "code",
     "collapsed": false,
     "input": [
      "frame['a'][1]"
     ],
     "language": "python",
     "metadata": {},
     "outputs": [
      {
       "metadata": {},
       "output_type": "pyout",
       "prompt_number": 36,
       "text": [
        "u'GoogleMaps/RochesterNY'"
       ]
      }
     ],
     "prompt_number": 36
    },
    {
     "cell_type": "code",
     "collapsed": false,
     "input": [
      "frame['a'][50]"
     ],
     "language": "python",
     "metadata": {},
     "outputs": [
      {
       "metadata": {},
       "output_type": "pyout",
       "prompt_number": 37,
       "text": [
        "u'Mozilla/5.0 (Windows NT 5.1; rv:10.0.2) Gecko/20100101 Firefox/10.0.2'"
       ]
      }
     ],
     "prompt_number": 37
    },
    {
     "cell_type": "code",
     "collapsed": false,
     "input": [
      "frame['a'][51]"
     ],
     "language": "python",
     "metadata": {},
     "outputs": [
      {
       "metadata": {},
       "output_type": "pyout",
       "prompt_number": 38,
       "text": [
        "u'Mozilla/5.0 (Linux; U; Android 2.2.2; en-us; LG-P925/V10e Build/FRG83G) AppleWebKit/533.1 (KHTML, like Gecko) Version/4.0 Mobile Safari/533.1'"
       ]
      }
     ],
     "prompt_number": 38
    },
    {
     "cell_type": "code",
     "collapsed": false,
     "input": [
      "results = pd.Series([x.split()[0] for x in frame.a.dropna()])"
     ],
     "language": "python",
     "metadata": {},
     "outputs": [],
     "prompt_number": 40
    },
    {
     "cell_type": "code",
     "collapsed": false,
     "input": [
      "results[:5]"
     ],
     "language": "python",
     "metadata": {},
     "outputs": [
      {
       "metadata": {},
       "output_type": "pyout",
       "prompt_number": 41,
       "text": [
        "0               Mozilla/5.0\n",
        "1    GoogleMaps/RochesterNY\n",
        "2               Mozilla/4.0\n",
        "3               Mozilla/5.0\n",
        "4               Mozilla/5.0\n",
        "dtype: object"
       ]
      }
     ],
     "prompt_number": 41
    },
    {
     "cell_type": "code",
     "collapsed": false,
     "input": [
      "# better to use vectorized string processing\n",
      "results = frame.a.dropna().str.split().str[0]"
     ],
     "language": "python",
     "metadata": {},
     "outputs": [],
     "prompt_number": 43
    },
    {
     "cell_type": "code",
     "collapsed": false,
     "input": [
      "results[:5]"
     ],
     "language": "python",
     "metadata": {},
     "outputs": [
      {
       "metadata": {},
       "output_type": "pyout",
       "prompt_number": 44,
       "text": [
        "0               Mozilla/5.0\n",
        "1    GoogleMaps/RochesterNY\n",
        "2               Mozilla/4.0\n",
        "3               Mozilla/5.0\n",
        "4               Mozilla/5.0\n",
        "Name: a, dtype: object"
       ]
      }
     ],
     "prompt_number": 44
    },
    {
     "cell_type": "code",
     "collapsed": false,
     "input": [
      "results.value_counts()[:8]"
     ],
     "language": "python",
     "metadata": {},
     "outputs": [
      {
       "metadata": {},
       "output_type": "pyout",
       "prompt_number": 45,
       "text": [
        "Mozilla/5.0                 2594\n",
        "Mozilla/4.0                  601\n",
        "GoogleMaps/RochesterNY       121\n",
        "Opera/9.80                    34\n",
        "TEST_INTERNET_AGENT           24\n",
        "GoogleProducer                21\n",
        "Mozilla/6.0                    5\n",
        "BlackBerry8520/5.0.0.681       4\n",
        "dtype: int64"
       ]
      }
     ],
     "prompt_number": 45
    },
    {
     "cell_type": "code",
     "collapsed": false,
     "input": [
      "cframe = frame[frame.a.notnull()]"
     ],
     "language": "python",
     "metadata": {},
     "outputs": [],
     "prompt_number": 46
    },
    {
     "cell_type": "code",
     "collapsed": false,
     "input": [
      "import numpy as np\n",
      "operating_system = np.where(cframe['a'].str.contains('Windows'),\n",
      "                                                    'Windows',\n",
      "                                                    'Not Windows')"
     ],
     "language": "python",
     "metadata": {},
     "outputs": [],
     "prompt_number": 47
    },
    {
     "cell_type": "code",
     "collapsed": false,
     "input": [
      "operating_system[:5]"
     ],
     "language": "python",
     "metadata": {},
     "outputs": [
      {
       "metadata": {},
       "output_type": "pyout",
       "prompt_number": 48,
       "text": [
        "0        Windows\n",
        "1    Not Windows\n",
        "2        Windows\n",
        "3    Not Windows\n",
        "4        Windows\n",
        "Name: a, dtype: object"
       ]
      }
     ],
     "prompt_number": 48
    },
    {
     "cell_type": "code",
     "collapsed": false,
     "input": [
      "by_tz_os = cframe.groupby(['tz', operating_system])"
     ],
     "language": "python",
     "metadata": {},
     "outputs": [],
     "prompt_number": 49
    },
    {
     "cell_type": "code",
     "collapsed": false,
     "input": [
      "by_tz_os.size().head()"
     ],
     "language": "python",
     "metadata": {},
     "outputs": [
      {
       "metadata": {},
       "output_type": "pyout",
       "prompt_number": 51,
       "text": [
        "tz                 a          \n",
        "                   Not Windows    245\n",
        "                   Windows        276\n",
        "Africa/Cairo       Windows          3\n",
        "Africa/Casablanca  Windows          1\n",
        "Africa/Ceuta       Windows          2\n",
        "dtype: int64"
       ]
      }
     ],
     "prompt_number": 51
    },
    {
     "cell_type": "code",
     "collapsed": false,
     "input": [
      "by_tz_os.size().head().index"
     ],
     "language": "python",
     "metadata": {},
     "outputs": [
      {
       "metadata": {},
       "output_type": "pyout",
       "prompt_number": 54,
       "text": [
        "MultiIndex\n",
        "[(u'', u'Not Windows'), (u'', u'Windows'), (u'Africa/Cairo', u'Windows'), (u'Africa/Casablanca', u'Windows'), (u'Africa/Ceuta', u'Windows')]"
       ]
      }
     ],
     "prompt_number": 54
    },
    {
     "cell_type": "code",
     "collapsed": false,
     "input": [
      "by_tz_os.size().unstack().head()"
     ],
     "language": "python",
     "metadata": {},
     "outputs": [
      {
       "html": [
        "<div style=\"max-height:1000px;max-width:1500px;overflow:auto;\">\n",
        "<table border=\"1\" class=\"dataframe\">\n",
        "  <thead>\n",
        "    <tr style=\"text-align: right;\">\n",
        "      <th>a</th>\n",
        "      <th>Not Windows</th>\n",
        "      <th>Windows</th>\n",
        "    </tr>\n",
        "    <tr>\n",
        "      <th>tz</th>\n",
        "      <th></th>\n",
        "      <th></th>\n",
        "    </tr>\n",
        "  </thead>\n",
        "  <tbody>\n",
        "    <tr>\n",
        "      <th></th>\n",
        "      <td> 245</td>\n",
        "      <td> 276</td>\n",
        "    </tr>\n",
        "    <tr>\n",
        "      <th>Africa/Cairo</th>\n",
        "      <td> NaN</td>\n",
        "      <td>   3</td>\n",
        "    </tr>\n",
        "    <tr>\n",
        "      <th>Africa/Casablanca</th>\n",
        "      <td> NaN</td>\n",
        "      <td>   1</td>\n",
        "    </tr>\n",
        "    <tr>\n",
        "      <th>Africa/Ceuta</th>\n",
        "      <td> NaN</td>\n",
        "      <td>   2</td>\n",
        "    </tr>\n",
        "    <tr>\n",
        "      <th>Africa/Johannesburg</th>\n",
        "      <td> NaN</td>\n",
        "      <td>   1</td>\n",
        "    </tr>\n",
        "  </tbody>\n",
        "</table>\n",
        "</div>"
       ],
       "metadata": {},
       "output_type": "pyout",
       "prompt_number": 52,
       "text": [
        "a                    Not Windows  Windows\n",
        "tz                                       \n",
        "                             245      276\n",
        "Africa/Cairo                 NaN        3\n",
        "Africa/Casablanca            NaN        1\n",
        "Africa/Ceuta                 NaN        2\n",
        "Africa/Johannesburg          NaN        1"
       ]
      }
     ],
     "prompt_number": 52
    },
    {
     "cell_type": "code",
     "collapsed": false,
     "input": [
      "agg_counts = by_tz_os.size().unstack().fillna(0)"
     ],
     "language": "python",
     "metadata": {},
     "outputs": [],
     "prompt_number": 55
    },
    {
     "cell_type": "code",
     "collapsed": false,
     "input": [
      "agg_counts[:10]"
     ],
     "language": "python",
     "metadata": {},
     "outputs": [
      {
       "html": [
        "<div style=\"max-height:1000px;max-width:1500px;overflow:auto;\">\n",
        "<table border=\"1\" class=\"dataframe\">\n",
        "  <thead>\n",
        "    <tr style=\"text-align: right;\">\n",
        "      <th>a</th>\n",
        "      <th>Not Windows</th>\n",
        "      <th>Windows</th>\n",
        "    </tr>\n",
        "    <tr>\n",
        "      <th>tz</th>\n",
        "      <th></th>\n",
        "      <th></th>\n",
        "    </tr>\n",
        "  </thead>\n",
        "  <tbody>\n",
        "    <tr>\n",
        "      <th></th>\n",
        "      <td> 245</td>\n",
        "      <td> 276</td>\n",
        "    </tr>\n",
        "    <tr>\n",
        "      <th>Africa/Cairo</th>\n",
        "      <td>   0</td>\n",
        "      <td>   3</td>\n",
        "    </tr>\n",
        "    <tr>\n",
        "      <th>Africa/Casablanca</th>\n",
        "      <td>   0</td>\n",
        "      <td>   1</td>\n",
        "    </tr>\n",
        "    <tr>\n",
        "      <th>Africa/Ceuta</th>\n",
        "      <td>   0</td>\n",
        "      <td>   2</td>\n",
        "    </tr>\n",
        "    <tr>\n",
        "      <th>Africa/Johannesburg</th>\n",
        "      <td>   0</td>\n",
        "      <td>   1</td>\n",
        "    </tr>\n",
        "    <tr>\n",
        "      <th>Africa/Lusaka</th>\n",
        "      <td>   0</td>\n",
        "      <td>   1</td>\n",
        "    </tr>\n",
        "    <tr>\n",
        "      <th>America/Anchorage</th>\n",
        "      <td>   4</td>\n",
        "      <td>   1</td>\n",
        "    </tr>\n",
        "    <tr>\n",
        "      <th>America/Argentina/Buenos_Aires</th>\n",
        "      <td>   1</td>\n",
        "      <td>   0</td>\n",
        "    </tr>\n",
        "    <tr>\n",
        "      <th>America/Argentina/Cordoba</th>\n",
        "      <td>   0</td>\n",
        "      <td>   1</td>\n",
        "    </tr>\n",
        "    <tr>\n",
        "      <th>America/Argentina/Mendoza</th>\n",
        "      <td>   0</td>\n",
        "      <td>   1</td>\n",
        "    </tr>\n",
        "  </tbody>\n",
        "</table>\n",
        "</div>"
       ],
       "metadata": {},
       "output_type": "pyout",
       "prompt_number": 56,
       "text": [
        "a                               Not Windows  Windows\n",
        "tz                                                  \n",
        "                                        245      276\n",
        "Africa/Cairo                              0        3\n",
        "Africa/Casablanca                         0        1\n",
        "Africa/Ceuta                              0        2\n",
        "Africa/Johannesburg                       0        1\n",
        "Africa/Lusaka                             0        1\n",
        "America/Anchorage                         4        1\n",
        "America/Argentina/Buenos_Aires            1        0\n",
        "America/Argentina/Cordoba                 0        1\n",
        "America/Argentina/Mendoza                 0        1"
       ]
      }
     ],
     "prompt_number": 56
    },
    {
     "cell_type": "code",
     "collapsed": false,
     "input": [
      "indexer = agg_counts.sum(axis=1).argsort()\n",
      "indexer[:10]"
     ],
     "language": "python",
     "metadata": {},
     "outputs": [
      {
       "metadata": {},
       "output_type": "pyout",
       "prompt_number": 57,
       "text": [
        "tz\n",
        "                                  24\n",
        "Africa/Cairo                      20\n",
        "Africa/Casablanca                 21\n",
        "Africa/Ceuta                      92\n",
        "Africa/Johannesburg               87\n",
        "Africa/Lusaka                     53\n",
        "America/Anchorage                 54\n",
        "America/Argentina/Buenos_Aires    57\n",
        "America/Argentina/Cordoba         26\n",
        "America/Argentina/Mendoza         55\n",
        "dtype: int64"
       ]
      }
     ],
     "prompt_number": 57
    },
    {
     "cell_type": "code",
     "collapsed": false,
     "input": [
      "count_subset = agg_counts.take(indexer)[-10:]"
     ],
     "language": "python",
     "metadata": {},
     "outputs": [],
     "prompt_number": 58
    },
    {
     "cell_type": "code",
     "collapsed": false,
     "input": [
      "count_subset"
     ],
     "language": "python",
     "metadata": {},
     "outputs": [
      {
       "html": [
        "<div style=\"max-height:1000px;max-width:1500px;overflow:auto;\">\n",
        "<table border=\"1\" class=\"dataframe\">\n",
        "  <thead>\n",
        "    <tr style=\"text-align: right;\">\n",
        "      <th>a</th>\n",
        "      <th>Not Windows</th>\n",
        "      <th>Windows</th>\n",
        "    </tr>\n",
        "    <tr>\n",
        "      <th>tz</th>\n",
        "      <th></th>\n",
        "      <th></th>\n",
        "    </tr>\n",
        "  </thead>\n",
        "  <tbody>\n",
        "    <tr>\n",
        "      <th>America/Sao_Paulo</th>\n",
        "      <td>  13</td>\n",
        "      <td>  20</td>\n",
        "    </tr>\n",
        "    <tr>\n",
        "      <th>Europe/Madrid</th>\n",
        "      <td>  16</td>\n",
        "      <td>  19</td>\n",
        "    </tr>\n",
        "    <tr>\n",
        "      <th>Pacific/Honolulu</th>\n",
        "      <td>   0</td>\n",
        "      <td>  36</td>\n",
        "    </tr>\n",
        "    <tr>\n",
        "      <th>Asia/Tokyo</th>\n",
        "      <td>   2</td>\n",
        "      <td>  35</td>\n",
        "    </tr>\n",
        "    <tr>\n",
        "      <th>Europe/London</th>\n",
        "      <td>  43</td>\n",
        "      <td>  31</td>\n",
        "    </tr>\n",
        "    <tr>\n",
        "      <th>America/Denver</th>\n",
        "      <td> 132</td>\n",
        "      <td>  59</td>\n",
        "    </tr>\n",
        "    <tr>\n",
        "      <th>America/Los_Angeles</th>\n",
        "      <td> 130</td>\n",
        "      <td> 252</td>\n",
        "    </tr>\n",
        "    <tr>\n",
        "      <th>America/Chicago</th>\n",
        "      <td> 115</td>\n",
        "      <td> 285</td>\n",
        "    </tr>\n",
        "    <tr>\n",
        "      <th></th>\n",
        "      <td> 245</td>\n",
        "      <td> 276</td>\n",
        "    </tr>\n",
        "    <tr>\n",
        "      <th>America/New_York</th>\n",
        "      <td> 339</td>\n",
        "      <td> 912</td>\n",
        "    </tr>\n",
        "  </tbody>\n",
        "</table>\n",
        "</div>"
       ],
       "metadata": {},
       "output_type": "pyout",
       "prompt_number": 59,
       "text": [
        "a                    Not Windows  Windows\n",
        "tz                                       \n",
        "America/Sao_Paulo             13       20\n",
        "Europe/Madrid                 16       19\n",
        "Pacific/Honolulu               0       36\n",
        "Asia/Tokyo                     2       35\n",
        "Europe/London                 43       31\n",
        "America/Denver               132       59\n",
        "America/Los_Angeles          130      252\n",
        "America/Chicago              115      285\n",
        "                             245      276\n",
        "America/New_York             339      912"
       ]
      }
     ],
     "prompt_number": 59
    },
    {
     "cell_type": "code",
     "collapsed": false,
     "input": [
      "count_subset.plot(kind='barh', stacked=True)"
     ],
     "language": "python",
     "metadata": {},
     "outputs": [
      {
       "metadata": {},
       "output_type": "pyout",
       "prompt_number": 60,
       "text": [
        "<matplotlib.axes.AxesSubplot at 0x59b10d0>"
       ]
      },
      {
       "metadata": {},
       "output_type": "display_data",
       "png": "[encoded data removed]",
       "text": [
        "<matplotlib.figure.Figure at 0x59b1a90>"
       ]
      }
     ],
     "prompt_number": 60
    },
    {
     "cell_type": "code",
     "collapsed": false,
     "input": [
      "normed_subset = count_subset.div(count_subset.sum(axis=1), axis=0)"
     ],
     "language": "python",
     "metadata": {},
     "outputs": [],
     "prompt_number": 61
    },
    {
     "cell_type": "code",
     "collapsed": false,
     "input": [
      "normed_subset.plot(kind='barh', stacked=True)"
     ],
     "language": "python",
     "metadata": {},
     "outputs": [
      {
       "metadata": {},
       "output_type": "pyout",
       "prompt_number": 62,
       "text": [
        "<matplotlib.axes.AxesSubplot at 0x595e850>"
       ]
      },
      {
       "metadata": {},
       "output_type": "display_data",
       "png": "[encoded data removed]",
       "text": [
        "<matplotlib.figure.Figure at 0x59b1e10>"
       ]
      }
     ],
     "prompt_number": 62
    },
    {
     "cell_type": "code",
     "collapsed": false,
     "input": [],
     "language": "python",
     "metadata": {},
     "outputs": []
    }
   ],
   "metadata": {}
  }
 ]
}